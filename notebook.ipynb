{
 "cells": [
  {
   "cell_type": "code",
   "execution_count": 12,
   "metadata": {},
   "outputs": [],
   "source": [
    "from tabulate import tabulate"
   ]
  },
  {
   "cell_type": "code",
   "execution_count": 27,
   "metadata": {},
   "outputs": [],
   "source": [
    "class Membership:\n",
    "    user_data = {\n",
    "        \"Sumbul\": \"Silver\",\n",
    "        \"Ana\": \"Gold\",\n",
    "        \"Cahya\": \"Platinum\"\n",
    "    }\n",
    "\n",
    "    membership = {\n",
    "        \"Membership\" : [\"Platinum\",\"Gold\",\"Silver\"],\n",
    "        \"Discount\" : [\"15%\", \"10%\", \"8%\"],\n",
    "        \"Another Benefit\" : [\"Benefit Silver + Gold + Voucher Liburan + Cashback max.30%\", \n",
    "                            \"Benefit Silver + Voucher Ojek Online\",\n",
    "                            \"Voucher Makanan\"]\n",
    "    }\n",
    "\n",
    "    requirements_membership = {\n",
    "        \"Membership\" : [\"Platinum\",\"Gold\",\"Silver\"],\n",
    "        \"Monthly Expense (juta)\" : [8,6,5],\n",
    "        \"Monthly Income (juta)\" : [15,10,7]\n",
    "    }\n",
    "\n",
    "    def __init__(self,username):\n",
    "        self.username = username\n",
    "\n",
    "    def show_benefit(self):\n",
    "        print(\"Benefit Membership PacCommerce\\n\")\n",
    "        print(tabulate(self.membership, headers=\"keys\", tablefmt=\"github\", stralign=\"center\"))\n",
    "\n",
    "    def show_requirements(self):\n",
    "        print(\"Requirements Membership PacCommerce\\n\")\n",
    "        print(tabulate(self.requirements_membership, headers=\"keys\", tablefmt=\"github\", stralign=\"center\", numalign=\"center\"))\n",
    "        "
   ]
  },
  {
   "cell_type": "code",
   "execution_count": 28,
   "metadata": {},
   "outputs": [],
   "source": [
    "ari = Membership(username=\"ari\")"
   ]
  },
  {
   "cell_type": "code",
   "execution_count": 21,
   "metadata": {},
   "outputs": [
    {
     "name": "stdout",
     "output_type": "stream",
     "text": [
      "Benefit Membership PacCommerce\n",
      "\n",
      "|  Membership  |  Discount  |                      Another Benefit                       |\n",
      "|--------------|------------|------------------------------------------------------------|\n",
      "|   Platinum   |    15%     | Benefit Silver + Gold + Voucher Liburan + Cashback max.30% |\n",
      "|     Gold     |    10%     |            Benefit Silver + Voucher Ojek Online            |\n",
      "|    Silver    |     8%     |                      Voucher Makanan                       |\n"
     ]
    }
   ],
   "source": [
    "ari.show_benefit()"
   ]
  },
  {
   "cell_type": "code",
   "execution_count": 29,
   "metadata": {},
   "outputs": [
    {
     "name": "stdout",
     "output_type": "stream",
     "text": [
      "Requirements Membership PacCommerce\n",
      "\n",
      "|  Membership  |  Monthly Expense (juta)  |  Monthly Income (juta)  |\n",
      "|--------------|--------------------------|-------------------------|\n",
      "|   Platinum   |            8             |           15            |\n",
      "|     Gold     |            6             |           10            |\n",
      "|    Silver    |            5             |            7            |\n"
     ]
    }
   ],
   "source": [
    "ari.show_requirements()"
   ]
  },
  {
   "cell_type": "code",
   "execution_count": null,
   "metadata": {},
   "outputs": [],
   "source": []
  }
 ],
 "metadata": {
  "kernelspec": {
   "display_name": ".venv",
   "language": "python",
   "name": "python3"
  },
  "language_info": {
   "codemirror_mode": {
    "name": "ipython",
    "version": 3
   },
   "file_extension": ".py",
   "mimetype": "text/x-python",
   "name": "python",
   "nbconvert_exporter": "python",
   "pygments_lexer": "ipython3",
   "version": "3.9.6"
  }
 },
 "nbformat": 4,
 "nbformat_minor": 2
}
