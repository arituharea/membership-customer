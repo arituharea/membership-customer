{
 "cells": [
  {
   "cell_type": "code",
   "execution_count": 16,
   "metadata": {},
   "outputs": [],
   "source": [
    "from tabulate import tabulate\n",
    "from math import sqrt"
   ]
  },
  {
   "cell_type": "code",
   "execution_count": 63,
   "metadata": {},
   "outputs": [],
   "source": [
    "class Membership:\n",
    "    user_data = {\n",
    "        \"Sumbul\": \"Silver\",\n",
    "        \"Ana\": \"Gold\",\n",
    "        \"Cahya\": \"Platinum\"\n",
    "    }\n",
    "\n",
    "    membership = {\n",
    "        \"Membership\" : [\"Platinum\",\"Gold\",\"Silver\"],\n",
    "        \"Discount\" : [\"15%\", \"10%\", \"8%\"],\n",
    "        \"Another Benefit\" : [\"Benefit Silver + Gold + Voucher Liburan + Cashback max.30%\", \n",
    "                            \"Benefit Silver + Voucher Ojek Online\",\n",
    "                            \"Voucher Makanan\"]\n",
    "    }\n",
    "\n",
    "    requirements_membership = {\n",
    "        \"Membership\" : [\"Platinum\",\"Gold\",\"Silver\"],\n",
    "        \"Monthly Expense (juta)\" : [8,6,5],\n",
    "        \"Monthly Income (juta)\" : [15,10,7]\n",
    "    }\n",
    "\n",
    "    def __init__(self,username):\n",
    "        self.username = username\n",
    "\n",
    "    def show_benefit(self):\n",
    "        print(\"Benefit Membership PacCommerce\\n\")\n",
    "        print(tabulate(self.membership, headers=\"keys\", tablefmt=\"github\", stralign=\"center\"))\n",
    "\n",
    "    def show_requirements(self):\n",
    "        print(\"Requirements Membership PacCommerce\\n\")\n",
    "        print(tabulate(self.requirements_membership, headers=\"keys\", tablefmt=\"github\", stralign=\"center\", numalign=\"center\"))\n",
    "\n",
    "    def predict_membership(self, monthly_expense, monthly_income):\n",
    "        list = []\n",
    "        for i in range(len(self.requirements_membership[\"Membership\"])):\n",
    "            user = sqrt(\n",
    "                (monthly_expense - self.requirements_membership[\"Monthly Expense (juta)\"][i])**2\n",
    "                + (monthly_income - self.requirements_membership[\"Monthly Income (juta)\"][i])**2\n",
    "            )\n",
    "            list.append(user)\n",
    "\n",
    "        membership_list = self.requirements_membership[\"Membership\"]\n",
    "\n",
    "        r_dict = dict(zip(membership_list, list))\n",
    "\n",
    "        index_user = list.index(min(list))\n",
    "\n",
    "        membership_type = self.requirements_membership[\"Membership\"][index_user]\n",
    "        \n",
    "        print(f\"hasil perhitungan Euclidean Distance dari user {self.username} adalah {r_dict}\")\n",
    "        print(membership_type)\n",
    "\n",
    "        #check if username in user_data\n",
    "        if self.username not in self.user_data:\n",
    "            self.user_data[self.username] = membership_type\n",
    "    \n",
    "    def show_membership(self):\n",
    "        if self.username in self.user_data:\n",
    "            return self.user_data[self.username]\n",
    "\n",
    "    def calculate_price(self, list_harga_barang):\n",
    "        user_membership = self.show_membership()\n",
    "\n",
    "        index_membership = self.membership[\"Membership\"].index(user_membership)\n",
    "\n",
    "        discount_str = self.membership[\"Discount\"][index_membership]\n",
    "\n",
    "        discount = int(discount_str.rstrip(\"%\")) / 100\n",
    "\n",
    "        sum_list_harga_barang = sum(list_harga_barang)\n",
    "\n",
    "        final_price = sum_list_harga_barang - (sum_list_harga_barang * discount)\n",
    "\n",
    "        print(f\"Final Price : {final_price}\") "
   ]
  },
  {
   "cell_type": "code",
   "execution_count": 64,
   "metadata": {},
   "outputs": [],
   "source": [
    "ari = Membership(username=\"ari\")"
   ]
  },
  {
   "cell_type": "code",
   "execution_count": 58,
   "metadata": {},
   "outputs": [
    {
     "name": "stdout",
     "output_type": "stream",
     "text": [
      "Benefit Membership PacCommerce\n",
      "\n",
      "|  Membership  |  Discount  |                      Another Benefit                       |\n",
      "|--------------|------------|------------------------------------------------------------|\n",
      "|   Platinum   |    15%     | Benefit Silver + Gold + Voucher Liburan + Cashback max.30% |\n",
      "|     Gold     |    10%     |            Benefit Silver + Voucher Ojek Online            |\n",
      "|    Silver    |     8%     |                      Voucher Makanan                       |\n"
     ]
    }
   ],
   "source": [
    "ari.show_benefit()"
   ]
  },
  {
   "cell_type": "code",
   "execution_count": 32,
   "metadata": {},
   "outputs": [
    {
     "name": "stdout",
     "output_type": "stream",
     "text": [
      "Requirements Membership PacCommerce\n",
      "\n",
      "|  Membership  |  Monthly Expense (juta)  |  Monthly Income (juta)  |\n",
      "|--------------|--------------------------|-------------------------|\n",
      "|   Platinum   |            8             |           15            |\n",
      "|     Gold     |            6             |           10            |\n",
      "|    Silver    |            5             |            7            |\n"
     ]
    }
   ],
   "source": [
    "ari.show_requirements()"
   ]
  },
  {
   "cell_type": "code",
   "execution_count": 65,
   "metadata": {},
   "outputs": [
    {
     "name": "stdout",
     "output_type": "stream",
     "text": [
      "hasil perhitungan Euclidean Distance dari user ari adalah {'Platinum': 3.1622776601683795, 'Gold': 3.605551275463989, 'Silver': 6.4031242374328485}\n",
      "Platinum\n"
     ]
    }
   ],
   "source": [
    "ari.predict_membership(monthly_expense=9, monthly_income=12)"
   ]
  },
  {
   "cell_type": "code",
   "execution_count": 66,
   "metadata": {},
   "outputs": [
    {
     "data": {
      "text/plain": [
       "{'Sumbul': 'Silver', 'Ana': 'Gold', 'Cahya': 'Platinum', 'ari': 'Platinum'}"
      ]
     },
     "execution_count": 66,
     "metadata": {},
     "output_type": "execute_result"
    }
   ],
   "source": [
    "ari.user_data"
   ]
  },
  {
   "cell_type": "code",
   "execution_count": 67,
   "metadata": {},
   "outputs": [
    {
     "data": {
      "text/plain": [
       "'Platinum'"
      ]
     },
     "execution_count": 67,
     "metadata": {},
     "output_type": "execute_result"
    }
   ],
   "source": [
    "ari.user_data[\"ari\"]"
   ]
  },
  {
   "cell_type": "code",
   "execution_count": 68,
   "metadata": {},
   "outputs": [
    {
     "data": {
      "text/plain": [
       "'Platinum'"
      ]
     },
     "execution_count": 68,
     "metadata": {},
     "output_type": "execute_result"
    }
   ],
   "source": [
    "ari.show_membership()"
   ]
  },
  {
   "cell_type": "code",
   "execution_count": 69,
   "metadata": {},
   "outputs": [
    {
     "name": "stdout",
     "output_type": "stream",
     "text": [
      "Final Price : 637500.0\n"
     ]
    }
   ],
   "source": [
    "ari.calculate_price([150_000, 200_000, 400_000])"
   ]
  },
  {
   "cell_type": "code",
   "execution_count": null,
   "metadata": {},
   "outputs": [],
   "source": []
  }
 ],
 "metadata": {
  "kernelspec": {
   "display_name": "Python 3",
   "language": "python",
   "name": "python3"
  },
  "language_info": {
   "codemirror_mode": {
    "name": "ipython",
    "version": 3
   },
   "file_extension": ".py",
   "mimetype": "text/x-python",
   "name": "python",
   "nbconvert_exporter": "python",
   "pygments_lexer": "ipython3",
   "version": "3.9.6"
  }
 },
 "nbformat": 4,
 "nbformat_minor": 2
}
